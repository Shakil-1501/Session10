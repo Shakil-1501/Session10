{
  "nbformat": 4,
  "nbformat_minor": 0,
  "metadata": {
    "colab": {
      "name": "Untitled10(b).ipynb",
      "provenance": [],
      "authorship_tag": "ABX9TyMqeO1o510n3jaJevNJyhvu",
      "include_colab_link": true
    },
    "kernelspec": {
      "name": "python3",
      "display_name": "Python 3"
    }
  },
  "cells": [
    {
      "cell_type": "markdown",
      "metadata": {
        "id": "view-in-github",
        "colab_type": "text"
      },
      "source": [
        "<a href=\"https://colab.research.google.com/github/Shakil-1501/Session10/blob/master/Untitled10(b).ipynb\" target=\"_parent\"><img src=\"https://colab.research.google.com/assets/colab-badge.svg\" alt=\"Open In Colab\"/></a>"
      ]
    },
    {
      "cell_type": "code",
      "metadata": {
        "id": "bKucjIZCi0gS",
        "outputId": "c04831af-3a37-4099-948e-68aa0e4177df",
        "colab": {
          "base_uri": "https://localhost:8080/",
          "height": 158
        }
      },
      "source": [
        "!pip install Faker"
      ],
      "execution_count": 1,
      "outputs": [
        {
          "output_type": "stream",
          "text": [
            "Collecting Faker\n",
            "\u001b[?25l  Downloading https://files.pythonhosted.org/packages/9d/3c/4fc4a53a24c0ae040616815eb18e73b00832d2eb9275da3837c8345c68a6/Faker-4.1.3-py3-none-any.whl (1.0MB)\n",
            "\r\u001b[K     |▎                               | 10kB 16.5MB/s eta 0:00:01\r\u001b[K     |▋                               | 20kB 2.8MB/s eta 0:00:01\r\u001b[K     |█                               | 30kB 3.8MB/s eta 0:00:01\r\u001b[K     |█▎                              | 40kB 4.2MB/s eta 0:00:01\r\u001b[K     |█▋                              | 51kB 2.8MB/s eta 0:00:01\r\u001b[K     |██                              | 61kB 3.3MB/s eta 0:00:01\r\u001b[K     |██▏                             | 71kB 3.6MB/s eta 0:00:01\r\u001b[K     |██▌                             | 81kB 3.9MB/s eta 0:00:01\r\u001b[K     |██▉                             | 92kB 4.2MB/s eta 0:00:01\r\u001b[K     |███▏                            | 102kB 3.9MB/s eta 0:00:01\r\u001b[K     |███▌                            | 112kB 3.9MB/s eta 0:00:01\r\u001b[K     |███▉                            | 122kB 3.9MB/s eta 0:00:01\r\u001b[K     |████                            | 133kB 3.9MB/s eta 0:00:01\r\u001b[K     |████▍                           | 143kB 3.9MB/s eta 0:00:01\r\u001b[K     |████▊                           | 153kB 3.9MB/s eta 0:00:01\r\u001b[K     |█████                           | 163kB 3.9MB/s eta 0:00:01\r\u001b[K     |█████▍                          | 174kB 3.9MB/s eta 0:00:01\r\u001b[K     |█████▊                          | 184kB 3.9MB/s eta 0:00:01\r\u001b[K     |██████                          | 194kB 3.9MB/s eta 0:00:01\r\u001b[K     |██████▎                         | 204kB 3.9MB/s eta 0:00:01\r\u001b[K     |██████▋                         | 215kB 3.9MB/s eta 0:00:01\r\u001b[K     |███████                         | 225kB 3.9MB/s eta 0:00:01\r\u001b[K     |███████▎                        | 235kB 3.9MB/s eta 0:00:01\r\u001b[K     |███████▋                        | 245kB 3.9MB/s eta 0:00:01\r\u001b[K     |███████▉                        | 256kB 3.9MB/s eta 0:00:01\r\u001b[K     |████████▏                       | 266kB 3.9MB/s eta 0:00:01\r\u001b[K     |████████▌                       | 276kB 3.9MB/s eta 0:00:01\r\u001b[K     |████████▉                       | 286kB 3.9MB/s eta 0:00:01\r\u001b[K     |█████████▏                      | 296kB 3.9MB/s eta 0:00:01\r\u001b[K     |█████████▌                      | 307kB 3.9MB/s eta 0:00:01\r\u001b[K     |█████████▊                      | 317kB 3.9MB/s eta 0:00:01\r\u001b[K     |██████████                      | 327kB 3.9MB/s eta 0:00:01\r\u001b[K     |██████████▍                     | 337kB 3.9MB/s eta 0:00:01\r\u001b[K     |██████████▊                     | 348kB 3.9MB/s eta 0:00:01\r\u001b[K     |███████████                     | 358kB 3.9MB/s eta 0:00:01\r\u001b[K     |███████████▍                    | 368kB 3.9MB/s eta 0:00:01\r\u001b[K     |███████████▋                    | 378kB 3.9MB/s eta 0:00:01\r\u001b[K     |████████████                    | 389kB 3.9MB/s eta 0:00:01\r\u001b[K     |████████████▎                   | 399kB 3.9MB/s eta 0:00:01\r\u001b[K     |████████████▋                   | 409kB 3.9MB/s eta 0:00:01\r\u001b[K     |█████████████                   | 419kB 3.9MB/s eta 0:00:01\r\u001b[K     |█████████████▎                  | 430kB 3.9MB/s eta 0:00:01\r\u001b[K     |█████████████▌                  | 440kB 3.9MB/s eta 0:00:01\r\u001b[K     |█████████████▉                  | 450kB 3.9MB/s eta 0:00:01\r\u001b[K     |██████████████▏                 | 460kB 3.9MB/s eta 0:00:01\r\u001b[K     |██████████████▌                 | 471kB 3.9MB/s eta 0:00:01\r\u001b[K     |██████████████▉                 | 481kB 3.9MB/s eta 0:00:01\r\u001b[K     |███████████████▏                | 491kB 3.9MB/s eta 0:00:01\r\u001b[K     |███████████████▌                | 501kB 3.9MB/s eta 0:00:01\r\u001b[K     |███████████████▊                | 512kB 3.9MB/s eta 0:00:01\r\u001b[K     |████████████████                | 522kB 3.9MB/s eta 0:00:01\r\u001b[K     |████████████████▍               | 532kB 3.9MB/s eta 0:00:01\r\u001b[K     |████████████████▊               | 542kB 3.9MB/s eta 0:00:01\r\u001b[K     |█████████████████               | 552kB 3.9MB/s eta 0:00:01\r\u001b[K     |█████████████████▍              | 563kB 3.9MB/s eta 0:00:01\r\u001b[K     |█████████████████▋              | 573kB 3.9MB/s eta 0:00:01\r\u001b[K     |██████████████████              | 583kB 3.9MB/s eta 0:00:01\r\u001b[K     |██████████████████▎             | 593kB 3.9MB/s eta 0:00:01\r\u001b[K     |██████████████████▋             | 604kB 3.9MB/s eta 0:00:01\r\u001b[K     |███████████████████             | 614kB 3.9MB/s eta 0:00:01\r\u001b[K     |███████████████████▎            | 624kB 3.9MB/s eta 0:00:01\r\u001b[K     |███████████████████▌            | 634kB 3.9MB/s eta 0:00:01\r\u001b[K     |███████████████████▉            | 645kB 3.9MB/s eta 0:00:01\r\u001b[K     |████████████████████▏           | 655kB 3.9MB/s eta 0:00:01\r\u001b[K     |████████████████████▌           | 665kB 3.9MB/s eta 0:00:01\r\u001b[K     |████████████████████▉           | 675kB 3.9MB/s eta 0:00:01\r\u001b[K     |█████████████████████▏          | 686kB 3.9MB/s eta 0:00:01\r\u001b[K     |█████████████████████▍          | 696kB 3.9MB/s eta 0:00:01\r\u001b[K     |█████████████████████▊          | 706kB 3.9MB/s eta 0:00:01\r\u001b[K     |██████████████████████          | 716kB 3.9MB/s eta 0:00:01\r\u001b[K     |██████████████████████▍         | 727kB 3.9MB/s eta 0:00:01\r\u001b[K     |██████████████████████▊         | 737kB 3.9MB/s eta 0:00:01\r\u001b[K     |███████████████████████         | 747kB 3.9MB/s eta 0:00:01\r\u001b[K     |███████████████████████▎        | 757kB 3.9MB/s eta 0:00:01\r\u001b[K     |███████████████████████▋        | 768kB 3.9MB/s eta 0:00:01\r\u001b[K     |████████████████████████        | 778kB 3.9MB/s eta 0:00:01\r\u001b[K     |████████████████████████▎       | 788kB 3.9MB/s eta 0:00:01\r\u001b[K     |████████████████████████▋       | 798kB 3.9MB/s eta 0:00:01\r\u001b[K     |█████████████████████████       | 808kB 3.9MB/s eta 0:00:01\r\u001b[K     |█████████████████████████▏      | 819kB 3.9MB/s eta 0:00:01\r\u001b[K     |█████████████████████████▌      | 829kB 3.9MB/s eta 0:00:01\r\u001b[K     |█████████████████████████▉      | 839kB 3.9MB/s eta 0:00:01\r\u001b[K     |██████████████████████████▏     | 849kB 3.9MB/s eta 0:00:01\r\u001b[K     |██████████████████████████▌     | 860kB 3.9MB/s eta 0:00:01\r\u001b[K     |██████████████████████████▉     | 870kB 3.9MB/s eta 0:00:01\r\u001b[K     |███████████████████████████     | 880kB 3.9MB/s eta 0:00:01\r\u001b[K     |███████████████████████████▍    | 890kB 3.9MB/s eta 0:00:01\r\u001b[K     |███████████████████████████▊    | 901kB 3.9MB/s eta 0:00:01\r\u001b[K     |████████████████████████████    | 911kB 3.9MB/s eta 0:00:01\r\u001b[K     |████████████████████████████▍   | 921kB 3.9MB/s eta 0:00:01\r\u001b[K     |████████████████████████████▊   | 931kB 3.9MB/s eta 0:00:01\r\u001b[K     |█████████████████████████████   | 942kB 3.9MB/s eta 0:00:01\r\u001b[K     |█████████████████████████████▎  | 952kB 3.9MB/s eta 0:00:01\r\u001b[K     |█████████████████████████████▋  | 962kB 3.9MB/s eta 0:00:01\r\u001b[K     |██████████████████████████████  | 972kB 3.9MB/s eta 0:00:01\r\u001b[K     |██████████████████████████████▎ | 983kB 3.9MB/s eta 0:00:01\r\u001b[K     |██████████████████████████████▋ | 993kB 3.9MB/s eta 0:00:01\r\u001b[K     |███████████████████████████████ | 1.0MB 3.9MB/s eta 0:00:01\r\u001b[K     |███████████████████████████████▏| 1.0MB 3.9MB/s eta 0:00:01\r\u001b[K     |███████████████████████████████▌| 1.0MB 3.9MB/s eta 0:00:01\r\u001b[K     |███████████████████████████████▉| 1.0MB 3.9MB/s eta 0:00:01\r\u001b[K     |████████████████████████████████| 1.0MB 3.9MB/s \n",
            "\u001b[?25hRequirement already satisfied: python-dateutil>=2.4 in /usr/local/lib/python3.6/dist-packages (from Faker) (2.8.1)\n",
            "Requirement already satisfied: text-unidecode==1.3 in /usr/local/lib/python3.6/dist-packages (from Faker) (1.3)\n",
            "Requirement already satisfied: six>=1.5 in /usr/local/lib/python3.6/dist-packages (from python-dateutil>=2.4->Faker) (1.15.0)\n",
            "Installing collected packages: Faker\n",
            "Successfully installed Faker-4.1.3\n"
          ],
          "name": "stdout"
        }
      ]
    },
    {
      "cell_type": "code",
      "metadata": {
        "id": "lEJAJTixnY_m"
      },
      "source": [
        "from faker import Faker\n",
        "import random\n",
        "\n",
        "\n",
        "fake = Faker()"
      ],
      "execution_count": 2,
      "outputs": []
    },
    {
      "cell_type": "code",
      "metadata": {
        "id": "QjxdVzlKnrDS"
      },
      "source": [
        "from collections import namedtuple\n",
        "import random\n"
      ],
      "execution_count": 3,
      "outputs": []
    },
    {
      "cell_type": "markdown",
      "metadata": {
        "id": "-jrzhny3fr4e"
      },
      "source": [
        "Creating a namedtuple **Stock** for storing stock related info of company"
      ]
    },
    {
      "cell_type": "code",
      "metadata": {
        "id": "c5bVOqTssqRw"
      },
      "source": [
        "Stock = namedtuple('Stock','company sym date openn close high')"
      ],
      "execution_count": 4,
      "outputs": []
    },
    {
      "cell_type": "code",
      "metadata": {
        "id": "KrCVIOUVxHw2"
      },
      "source": [
        "def gen_data(company, sym, date, openn, close, high):\n",
        "    return Stock(company, sym, date, openn, close, high)"
      ],
      "execution_count": 5,
      "outputs": []
    },
    {
      "cell_type": "code",
      "metadata": {
        "id": "hdIwOS1yxMwP"
      },
      "source": [
        ""
      ],
      "execution_count": 5,
      "outputs": []
    },
    {
      "cell_type": "code",
      "metadata": {
        "id": "Ea2UsgXxpwbK"
      },
      "source": [
        "data = []\n",
        "\n",
        "for i in range(100):\n",
        "    company = fake.company()\n",
        "    sym = company[0:2]+company[-2]\n",
        "    openn = random.randrange(250,500)\n",
        "    date = '28.09.2020'\n",
        "    #cont= random.uniform(0.10,0.90)*openn\n",
        "   \n",
        "    high  = random.randrange(openn,int(1.2*openn))\n",
        "    close = random.randrange(int(0.8*openn),high)\n",
        "    data.append(gen_data(company, sym, date, openn,close, high))"
      ],
      "execution_count": 6,
      "outputs": []
    },
    {
      "cell_type": "code",
      "metadata": {
        "id": "jFqyEYDmRM7c",
        "outputId": "ce9a5a13-2ceb-40ae-f800-06954843c4fc",
        "colab": {
          "base_uri": "https://localhost:8080/",
          "height": 1000
        }
      },
      "source": [
        "print('comp-Sym Open High Close')\n",
        "\n",
        "for i in data:\n",
        "    print(i.sym,i.openn,i.high,i.close)"
      ],
      "execution_count": 7,
      "outputs": [
        {
          "output_type": "stream",
          "text": [
            "comp-Sym Open High Close\n",
            "Wie 308 311 267\n",
            "Whe 284 307 240\n",
            "Ayn 312 341 267\n",
            "BrL 450 518 406\n",
            "Cil 496 502 421\n",
            "Smt 267 289 248\n",
            "Jeo 432 436 358\n",
            "SmL 296 339 306\n",
            "Ker 490 504 467\n",
            "Cho 449 514 485\n",
            "Rol 474 559 554\n",
            "Rau 376 450 434\n",
            "Fed 489 532 424\n",
            "Phc 455 501 456\n",
            "Fln 340 392 350\n",
            "Bun 484 551 414\n",
            "Mae 340 359 350\n",
            "Win 317 368 331\n",
            "Rit 360 424 407\n",
            "Sco 340 375 291\n",
            "Laa 479 541 419\n",
            "Coo 271 306 287\n",
            "Wio 287 303 294\n",
            "Trn 279 322 223\n",
            "Hae 343 379 337\n",
            "Pot 392 446 380\n",
            "Bra 252 255 250\n",
            "Joc 435 511 419\n",
            "Chs 276 303 290\n",
            "Jee 415 486 384\n",
            "Grn 299 299 280\n",
            "Edo 498 525 409\n",
            "Dul 279 295 245\n",
            "Can 367 395 367\n",
            "NaL 323 368 260\n",
            "Sin 380 398 374\n",
            "Got 280 284 242\n",
            "Jol 377 423 316\n",
            "Stu 327 372 325\n",
            "Rui 282 283 238\n",
            "Bee 277 278 224\n",
            "Bei 476 562 403\n",
            "Orn 329 336 309\n",
            "Thz 472 522 421\n",
            "Ant 363 404 338\n",
            "Bon 448 464 372\n",
            "Ron 370 401 360\n",
            "Glo 406 423 339\n",
            "Kan 457 544 494\n",
            "Saa 431 457 445\n",
            "JaL 329 334 300\n",
            "Pau 440 458 430\n",
            "Grt 278 302 298\n",
            "Rac 298 330 260\n",
            "Bul 471 488 486\n",
            "Baa 457 513 511\n",
            "Coo 491 584 505\n",
            "Sci 281 282 259\n",
            "FuL 408 484 330\n",
            "MoL 322 336 272\n",
            "Fre 291 313 262\n",
            "Mct 332 385 271\n",
            "Mie 403 448 431\n",
            "Rum 385 393 321\n",
            "Wee 353 366 340\n",
            "Cao 308 351 332\n",
            "Frc 480 495 401\n",
            "Bou 410 489 464\n",
            "Wii 484 569 449\n",
            "Clu 298 301 250\n",
            "Smo 381 419 401\n",
            "Han 378 398 304\n",
            "Hou 484 498 408\n",
            "Pek 428 466 429\n",
            "Keu 378 436 343\n",
            "Dai 330 388 379\n",
            "Wie 260 304 216\n",
            "Alg 311 351 294\n",
            "Clr 361 384 379\n",
            "Cou 395 455 451\n",
            "Stn 391 402 343\n",
            "Weo 253 299 205\n",
            "Stu 323 345 339\n",
            "Hog 387 411 369\n",
            "Mao 285 339 264\n",
            "Lat 366 377 316\n",
            "Wil 324 351 323\n",
            "Mcc 408 411 327\n",
            "Min 263 299 294\n",
            "Rio 263 308 255\n",
            "WeL 422 490 425\n",
            "Pae 329 341 340\n",
            "Smk 334 337 291\n",
            "KeL 375 447 416\n",
            "Lee 306 334 319\n",
            "Wan 311 344 291\n",
            "Drn 433 508 349\n",
            "Pan 269 298 249\n",
            "Tua 400 428 356\n",
            "WiL 332 373 321\n"
          ],
          "name": "stdout"
        }
      ]
    },
    {
      "cell_type": "markdown",
      "metadata": {
        "id": "NSocictse3N0"
      },
      "source": [
        "Creating a **StockWeight** namedtuple for storing weights of stocks of each company"
      ]
    },
    {
      "cell_type": "code",
      "metadata": {
        "id": "20LEkQslUZiN"
      },
      "source": [
        "StockWeight = namedtuple('StockWeight','weight')"
      ],
      "execution_count": 8,
      "outputs": []
    },
    {
      "cell_type": "code",
      "metadata": {
        "id": "djLg6AusU6gq"
      },
      "source": [
        "def gen_stock_weight(weight):\n",
        "    return StockWeight(weight)"
      ],
      "execution_count": 9,
      "outputs": []
    },
    {
      "cell_type": "code",
      "metadata": {
        "id": "XIO-nArQU7zb"
      },
      "source": [
        "stock_weight = [ gen_stock_weight( weight = random.uniform(0.01,0.9) ) for _ in range(100) ]"
      ],
      "execution_count": 10,
      "outputs": []
    },
    {
      "cell_type": "code",
      "metadata": {
        "id": "1T8oih3NVBLT",
        "outputId": "15f915b4-dad5-4803-f067-475960e94c82",
        "colab": {
          "base_uri": "https://localhost:8080/",
          "height": 1000
        }
      },
      "source": [
        "stock_weight"
      ],
      "execution_count": 11,
      "outputs": [
        {
          "output_type": "execute_result",
          "data": {
            "text/plain": [
              "[StockWeight(weight=0.05198817947416854),\n",
              " StockWeight(weight=0.4370014927343467),\n",
              " StockWeight(weight=0.19095140788597517),\n",
              " StockWeight(weight=0.6265445595328636),\n",
              " StockWeight(weight=0.737388788252402),\n",
              " StockWeight(weight=0.7601623242488547),\n",
              " StockWeight(weight=0.1797118892110342),\n",
              " StockWeight(weight=0.7787528177058914),\n",
              " StockWeight(weight=0.8521828084914004),\n",
              " StockWeight(weight=0.029398534693672304),\n",
              " StockWeight(weight=0.40512055561937893),\n",
              " StockWeight(weight=0.6704015988915959),\n",
              " StockWeight(weight=0.8286586880077905),\n",
              " StockWeight(weight=0.09490406280215177),\n",
              " StockWeight(weight=0.7222409236159307),\n",
              " StockWeight(weight=0.6080664141374773),\n",
              " StockWeight(weight=0.1432569204172605),\n",
              " StockWeight(weight=0.4201591512915527),\n",
              " StockWeight(weight=0.26418065058613527),\n",
              " StockWeight(weight=0.29938055487035575),\n",
              " StockWeight(weight=0.17419070856544708),\n",
              " StockWeight(weight=0.6275246735280077),\n",
              " StockWeight(weight=0.045299963819992246),\n",
              " StockWeight(weight=0.48304387747218896),\n",
              " StockWeight(weight=0.07371932801986512),\n",
              " StockWeight(weight=0.6668625466694853),\n",
              " StockWeight(weight=0.3071256915563298),\n",
              " StockWeight(weight=0.6365199712271199),\n",
              " StockWeight(weight=0.813001415073697),\n",
              " StockWeight(weight=0.3959289672901159),\n",
              " StockWeight(weight=0.6296403599157822),\n",
              " StockWeight(weight=0.22211792264336552),\n",
              " StockWeight(weight=0.6112795203386086),\n",
              " StockWeight(weight=0.33529598298515834),\n",
              " StockWeight(weight=0.4467737105613549),\n",
              " StockWeight(weight=0.8235055781735803),\n",
              " StockWeight(weight=0.6889491420901763),\n",
              " StockWeight(weight=0.5582862162097756),\n",
              " StockWeight(weight=0.8488180158912761),\n",
              " StockWeight(weight=0.5313188250305756),\n",
              " StockWeight(weight=0.201691078846021),\n",
              " StockWeight(weight=0.06297873099152791),\n",
              " StockWeight(weight=0.21309503314199107),\n",
              " StockWeight(weight=0.40277736110075363),\n",
              " StockWeight(weight=0.07825913209261248),\n",
              " StockWeight(weight=0.3978389048831036),\n",
              " StockWeight(weight=0.674037954115961),\n",
              " StockWeight(weight=0.4350132462259284),\n",
              " StockWeight(weight=0.83188479376704),\n",
              " StockWeight(weight=0.659800690021302),\n",
              " StockWeight(weight=0.21084776105385508),\n",
              " StockWeight(weight=0.2705895016303854),\n",
              " StockWeight(weight=0.3972054393322025),\n",
              " StockWeight(weight=0.3597307443930499),\n",
              " StockWeight(weight=0.23358348015923533),\n",
              " StockWeight(weight=0.14024484064736492),\n",
              " StockWeight(weight=0.8825477324939249),\n",
              " StockWeight(weight=0.2036448439940198),\n",
              " StockWeight(weight=0.8910159414993635),\n",
              " StockWeight(weight=0.637050981699347),\n",
              " StockWeight(weight=0.36157214385950737),\n",
              " StockWeight(weight=0.3850353417182033),\n",
              " StockWeight(weight=0.295776254500264),\n",
              " StockWeight(weight=0.6321711131877613),\n",
              " StockWeight(weight=0.699206833422788),\n",
              " StockWeight(weight=0.7405724898362827),\n",
              " StockWeight(weight=0.7420888958815433),\n",
              " StockWeight(weight=0.21174709022971397),\n",
              " StockWeight(weight=0.12244315021401092),\n",
              " StockWeight(weight=0.08986560050949044),\n",
              " StockWeight(weight=0.868778039343556),\n",
              " StockWeight(weight=0.8760128425084205),\n",
              " StockWeight(weight=0.6780696109817952),\n",
              " StockWeight(weight=0.3873401651742603),\n",
              " StockWeight(weight=0.6957027840082473),\n",
              " StockWeight(weight=0.28933530636928895),\n",
              " StockWeight(weight=0.10015854504975355),\n",
              " StockWeight(weight=0.6409460968502344),\n",
              " StockWeight(weight=0.8240709427787674),\n",
              " StockWeight(weight=0.020442635594909074),\n",
              " StockWeight(weight=0.4987532976334417),\n",
              " StockWeight(weight=0.7004154337418911),\n",
              " StockWeight(weight=0.6120157346671226),\n",
              " StockWeight(weight=0.5895745324139392),\n",
              " StockWeight(weight=0.6113290136115291),\n",
              " StockWeight(weight=0.14012202681794914),\n",
              " StockWeight(weight=0.3934852517797719),\n",
              " StockWeight(weight=0.07829530892519113),\n",
              " StockWeight(weight=0.43703623241141804),\n",
              " StockWeight(weight=0.664106395999082),\n",
              " StockWeight(weight=0.7948644085252792),\n",
              " StockWeight(weight=0.0489402443212818),\n",
              " StockWeight(weight=0.13021058201133562),\n",
              " StockWeight(weight=0.3899211573067455),\n",
              " StockWeight(weight=0.8744893364006613),\n",
              " StockWeight(weight=0.6213485922643222),\n",
              " StockWeight(weight=0.20558031118985592),\n",
              " StockWeight(weight=0.27645506132124875),\n",
              " StockWeight(weight=0.7508848016256808),\n",
              " StockWeight(weight=0.021412420348421047)]"
            ]
          },
          "metadata": {
            "tags": []
          },
          "execution_count": 11
        }
      ]
    },
    {
      "cell_type": "code",
      "metadata": {
        "id": "nD0mia6GVQc6"
      },
      "source": [
        "open=[data[i].openn for i in range(100)]\n",
        "cont_s  = [ data[i].openn * stock_weight[i].weight for i in range(100) ]\n",
        "index_high  = [ data[i].high  * stock_weight[i].weight for i in range(100) ]\n",
        "index_close = [ data[i].close * stock_weight[i].weight for i in range(100) ]"
      ],
      "execution_count": 12,
      "outputs": []
    },
    {
      "cell_type": "code",
      "metadata": {
        "id": "ghRI5eR5XES7",
        "outputId": "0e507ca6-d979-49bc-9c04-5181587b9a43",
        "colab": {
          "base_uri": "https://localhost:8080/",
          "height": 34
        }
      },
      "source": [
        "sum(open),sum(cont_s) ,sum(index_high), sum(index_close)"
      ],
      "execution_count": 13,
      "outputs": [
        {
          "output_type": "execute_result",
          "data": {
            "text/plain": [
              "(36628, 16785.142947928558, 18476.539993345817, 15895.882796351132)"
            ]
          },
          "metadata": {
            "tags": []
          },
          "execution_count": 13
        }
      ]
    },
    {
      "cell_type": "code",
      "metadata": {
        "id": "lTQ_ezsabSQA"
      },
      "source": [
        "a=sum(open)\n",
        "b=sum(cont_s)\n",
        "c=sum(index_high)\n",
        "d=sum(index_close)"
      ],
      "execution_count": 14,
      "outputs": []
    },
    {
      "cell_type": "code",
      "metadata": {
        "id": "8gfE56JzZVjv"
      },
      "source": [
        "Exchange=namedtuple('Exchange','open cont_s index_high index_close')\n",
        "l=Exchange(a,b,c, d)"
      ],
      "execution_count": 15,
      "outputs": []
    },
    {
      "cell_type": "code",
      "metadata": {
        "id": "bbMuneRKaU3j",
        "outputId": "b91a7aad-ffde-47f0-ff76-a948ce8affc5",
        "colab": {
          "base_uri": "https://localhost:8080/",
          "height": 70
        }
      },
      "source": [
        "print(\"********************* Exchange *********************\")\n",
        "\n",
        "print(\"     Open        \",\"     High     \",\"     Close     \")\n",
        "print(l.cont_s,l.index_high,l.index_close)\n",
        "\n"
      ],
      "execution_count": 16,
      "outputs": [
        {
          "output_type": "stream",
          "text": [
            "********************* Exchange *********************\n",
            "     Open              High           Close     \n",
            "16785.142947928558 18476.539993345817 15895.882796351132\n"
          ],
          "name": "stdout"
        }
      ]
    },
    {
      "cell_type": "code",
      "metadata": {
        "id": "dcW6UWPXPaY5"
      },
      "source": [
        ""
      ],
      "execution_count": 16,
      "outputs": []
    }
  ]
}