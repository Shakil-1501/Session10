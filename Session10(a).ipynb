{
  "nbformat": 4,
  "nbformat_minor": 0,
  "metadata": {
    "colab": {
      "name": "Session10(a).ipynb",
      "provenance": [],
      "collapsed_sections": [],
      "authorship_tag": "ABX9TyPKARKtkartD3bpAg6gAIyr",
      "include_colab_link": true
    },
    "kernelspec": {
      "name": "python3",
      "display_name": "Python 3"
    }
  },
  "cells": [
    {
      "cell_type": "markdown",
      "metadata": {
        "id": "view-in-github",
        "colab_type": "text"
      },
      "source": [
        "<a href=\"https://colab.research.google.com/github/Shakil-1501/Session10/blob/master/Session10(a).ipynb\" target=\"_parent\"><img src=\"https://colab.research.google.com/assets/colab-badge.svg\" alt=\"Open In Colab\"/></a>"
      ]
    },
    {
      "cell_type": "code",
      "metadata": {
        "id": "0HxF6u3QhKcw",
        "outputId": "cd6e5dae-8083-4c6f-c512-e4fa8a5470b5",
        "colab": {
          "base_uri": "https://localhost:8080/",
          "height": 158
        }
      },
      "source": [
        "!pip install Faker"
      ],
      "execution_count": 1,
      "outputs": [
        {
          "output_type": "stream",
          "text": [
            "Collecting Faker\n",
            "\u001b[?25l  Downloading https://files.pythonhosted.org/packages/9d/3c/4fc4a53a24c0ae040616815eb18e73b00832d2eb9275da3837c8345c68a6/Faker-4.1.3-py3-none-any.whl (1.0MB)\n",
            "\u001b[K     |████████████████████████████████| 1.0MB 2.7MB/s \n",
            "\u001b[?25hRequirement already satisfied: text-unidecode==1.3 in /usr/local/lib/python3.6/dist-packages (from Faker) (1.3)\n",
            "Requirement already satisfied: python-dateutil>=2.4 in /usr/local/lib/python3.6/dist-packages (from Faker) (2.8.1)\n",
            "Requirement already satisfied: six>=1.5 in /usr/local/lib/python3.6/dist-packages (from python-dateutil>=2.4->Faker) (1.15.0)\n",
            "Installing collected packages: Faker\n",
            "Successfully installed Faker-4.1.3\n"
          ],
          "name": "stdout"
        }
      ]
    },
    {
      "cell_type": "markdown",
      "metadata": {
        "id": "juJ12W2I7Dhc"
      },
      "source": [
        "-------------------------**Dictionary** Approach------------------------------------"
      ]
    },
    {
      "cell_type": "code",
      "metadata": {
        "id": "G7YramPwIFxQ",
        "outputId": "5c2da130-f8bb-46dd-881c-638fd4e06c36",
        "colab": {
          "base_uri": "https://localhost:8080/",
          "height": 105
        }
      },
      "source": [
        "from time import perf_counter\n",
        "import statistics\n",
        "from statistics import mode\n",
        "from statistics import mean\n",
        "import datetime\n",
        "from datetime import date\n",
        "from faker import Faker\n",
        "\n",
        "start=perf_counter()\n",
        "fake = Faker()\n",
        "total=0\n",
        "z=[]\n",
        "dob=[]\n",
        "lat=[]\n",
        "lon=[]\n",
        "q=[]\n",
        "for i in range(0,10000):\n",
        "    q.append(fake.profile())\n",
        "for i in q:\n",
        "  z.append(i['blood_group'])\n",
        "  days_in_year = 365.2425 \n",
        "  age = int((date.today() - i['birthdate']).days / days_in_year) \n",
        "  dob.append(age)\n",
        "  avg_dob=mean(dob)\n",
        "  lat.append(i['current_location'][0])\n",
        "  lon.append(i['current_location'][1])\n",
        "  mean_latitude=mean(lat)\n",
        "  mean_longitude=mean(lon)\n",
        "     \n",
        " \n",
        "\n",
        "k=mode(z) \n",
        "print(k)\n",
        "s=max(dob)\n",
        "print(s)\n",
        "print(avg_dob)\n",
        "print(f'Decimal({mean_latitude},{mean_longitude})') \n",
        "end=perf_counter()\n",
        "total+=end-start\n",
        "print(total)"
      ],
      "execution_count": 9,
      "outputs": [
        {
          "output_type": "stream",
          "text": [
            "AB+\n",
            "115\n",
            "56.8538\n",
            "Decimal(-0.95888020665,-0.2301543059)\n",
            "193.994394827\n"
          ],
          "name": "stdout"
        }
      ]
    },
    {
      "cell_type": "markdown",
      "metadata": {
        "id": "4ikp1wXq6xc0"
      },
      "source": [
        "---------- Named tuple approach------------------------"
      ]
    },
    {
      "cell_type": "code",
      "metadata": {
        "id": "xuisMQ7R5eMT",
        "outputId": "bd0da68f-7f09-4553-a6ff-e32f78c6c1d9",
        "colab": {
          "base_uri": "https://localhost:8080/",
          "height": 105
        }
      },
      "source": [
        "import statistics\n",
        "from statistics import mode\n",
        "from statistics import mean\n",
        "from collections import namedtuple\n",
        "import datetime\n",
        "from datetime import date\n",
        "from decimal import Decimal\n",
        "from time import perf_counter\n",
        "from faker import Faker\n",
        "start=perf_counter()\n",
        "z=[]\n",
        "dob=[]\n",
        "lat=[]\n",
        "lon=[]\n",
        "total=0\n",
        "fake = Faker()\n",
        "\n",
        "for i in range(10000):\n",
        "    \n",
        "    c=fake.profile()\n",
        "    Data = namedtuple('Data',sorted(c) )\n",
        "    d=Data(**c)\n",
        "    z.append(d[2])\n",
        "    days_in_year = 365.2425 \n",
        "    age = int((date.today() - d[1]).days / days_in_year)\n",
        "    dob.append(age)\n",
        "    lat.append(d[4][0])\n",
        "    lon.append(d[4][1])\n",
        "    mean_latitude=mean(lat)\n",
        "    mean_longitude=mean(lon)\n",
        "     \n",
        "\n",
        "\n",
        "\n",
        "x=mode(z) \n",
        "k=max(dob)\n",
        "l=mean(dob)\n",
        "m= f'Decimal({mean_latitude},{mean_longitude})'  \n",
        "\n",
        "print(x)\n",
        "print(k)\n",
        "print(l)\n",
        "#print(f'Decimal({mean_latitude},{mean_longitude})')\n",
        "print(m)\n",
        "end=perf_counter()  \n",
        "total+=end-start\n",
        "print(total)  "
      ],
      "execution_count": 4,
      "outputs": [
        {
          "output_type": "stream",
          "text": [
            "B-\n",
            "115\n",
            "57.8432\n",
            "Decimal(0.4914964694,-1.0453342202)\n",
            "177.76252626299998\n"
          ],
          "name": "stdout"
        }
      ]
    },
    {
      "cell_type": "code",
      "metadata": {
        "id": "4MY-yUZP4dZ4"
      },
      "source": [
        "from collections import namedtuple\n",
        "import random"
      ],
      "execution_count": 5,
      "outputs": []
    },
    {
      "cell_type": "code",
      "metadata": {
        "id": "DT1yPKi54EFC"
      },
      "source": [
        "Data=namedtuple(\"Data\",'a b c d')"
      ],
      "execution_count": 7,
      "outputs": []
    },
    {
      "cell_type": "code",
      "metadata": {
        "id": "q2v2LsF54EjA",
        "outputId": "5342924f-ade4-41b3-c2e0-afe5f1d78177",
        "colab": {
          "base_uri": "https://localhost:8080/",
          "height": 34
        }
      },
      "source": [
        "Data(x,k,l,m)"
      ],
      "execution_count": 8,
      "outputs": [
        {
          "output_type": "execute_result",
          "data": {
            "text/plain": [
              "Data(a='B-', b=115, c=57.8432, d='Decimal(0.4914964694,-1.0453342202)')"
            ]
          },
          "metadata": {
            "tags": []
          },
          "execution_count": 8
        }
      ]
    },
    {
      "cell_type": "markdown",
      "metadata": {
        "id": "pLicdzWB3RhD"
      },
      "source": [
        "we conclude that namedtuple took 177 seconds while dictionary approach took 193 seconds.Hence namedtuple was faster."
      ]
    },
    {
      "cell_type": "code",
      "metadata": {
        "id": "DwlORdZ7IeZ9"
      },
      "source": [
        ""
      ],
      "execution_count": null,
      "outputs": []
    }
  ]
}